{
 "cells": [
  {
   "cell_type": "code",
   "execution_count": null,
   "metadata": {},
   "outputs": [],
   "source": [
    "import hid\n",
    "import struct"
   ]
  },
  {
   "cell_type": "code",
   "execution_count": null,
   "metadata": {},
   "outputs": [],
   "source": [
    "# hid device path\n",
    "# use hid.enumerate() to figure out\n",
    "PATH = b'\\\\\\\\?\\\\HID#VID_FEED&PID_6070&MI_01#7&36c4d81a&0&0000#{4d1e55b2-f16f-11cf-88cb-001111000030}'\n",
    "\n",
    "# constants\n",
    "CMD_VIA_LIGHTING_SET_VALUE = 0x07\n",
    "VIALRGB_SET_MODE = 0x41\n",
    "QMK_RGBLIGHT_BRIGHTNESS = 0x80\n",
    "QMK_RGBLIGHT_EFFECT = 0x81\n",
    "QMK_RGBLIGHT_COLOR = 0x83\n",
    "MSG_LEN = 32\n",
    "\n",
    "# helper functions\n",
    "def change_rgb_mode(mode):\n",
    "    msg = struct.pack(\">BBB\", CMD_VIA_LIGHTING_SET_VALUE, QMK_RGBLIGHT_EFFECT, mode)\n",
    "    return(msg)\n",
    "\n",
    "def change_rgb_brightness(v):\n",
    "    msg = struct.pack(\">BBB\", CMD_VIA_LIGHTING_SET_VALUE, QMK_RGBLIGHT_BRIGHTNESS, v)\n",
    "    return(msg)\n",
    "\n",
    "def change_rgb_color(h, s):\n",
    "    msg = struct.pack(\">BBBB\", CMD_VIA_LIGHTING_SET_VALUE, QMK_RGBLIGHT_COLOR, h, s)\n",
    "    return(msg)\n",
    "\n",
    "def format_msg(msg):\n",
    "    msg += b\"\\x00\" * (MSG_LEN - len(msg))\n",
    "    return(msg)\n",
    "\n",
    "def send_msg(dev, msg):\n",
    "    dev.write(b\"\\x00\" + msg)"
   ]
  },
  {
   "cell_type": "code",
   "execution_count": null,
   "metadata": {},
   "outputs": [],
   "source": [
    "# 0: All Off\n",
    "# 1: Solid Color\n",
    "# 2: Breathing 1\n",
    "# 3: Breathing 2\n",
    "# 4: Breathing 3\n",
    "# 5: Breathing 4\n",
    "# 6: Rainbow Mood 1\n",
    "# 7: Rainbow Mood 2\n",
    "# 8: Rainbow Mood 3\n",
    "# 9: Rainbow Swirl 1\n",
    "# 10: Rainbow Swirl 2\n",
    "# 11: Rainbow Swirl 3\n",
    "# 12: Rainbow Swirl 4\n",
    "# 13: Rainbow Swirl 5\n",
    "# 14: Rainbow Swirl 6\n",
    "# 15: Snake 1\n",
    "# 16: Snake 2\n",
    "# 17: Snake 3\n",
    "# 18: Snake 4\n",
    "# 19: Snake 5\n",
    "# 20: Snake 6\n",
    "# 21: Knight 1\n",
    "# 22: Knight 2\n",
    "# 23: Knight 3\n",
    "# 24: Christmas\n",
    "# 25: Gradient 1\n",
    "# 26: Gradient 2\n",
    "# 27: Gradient 3\n",
    "# 28: Gradient 4\n",
    "# 29: Gradient 5\n",
    "# 30: Gradient 6\n",
    "# 31: Gradient 7\n",
    "# 32: Gradient 8\n",
    "# 33: Gradient 9\n",
    "# 34: Gradient 10\n",
    "# 35: RGB Test\n",
    "# 36: Alternating\n",
    "\n",
    "mode = 3\n",
    "dev = hid.Device(path=PATH)\n",
    "msg = format_msg(change_rgb_mode(mode))\n",
    "send_msg(dev, msg)\n",
    "dev.close()"
   ]
  },
  {
   "cell_type": "code",
   "execution_count": null,
   "metadata": {},
   "outputs": [],
   "source": [
    "# light blue\n",
    "dev = hid.Device(path=PATH)\n",
    "msg = format_msg(change_rgb_color(140, 255))\n",
    "send_msg(dev, msg)\n",
    "dev.close()"
   ]
  },
  {
   "cell_type": "code",
   "execution_count": null,
   "metadata": {},
   "outputs": [],
   "source": [
    "# red\n",
    "dev = hid.Device(path=PATH)\n",
    "msg = format_msg(change_rgb_color(0, 255))\n",
    "send_msg(dev, msg)\n",
    "dev.close()"
   ]
  },
  {
   "cell_type": "code",
   "execution_count": null,
   "metadata": {},
   "outputs": [],
   "source": [
    "# yellow\n",
    "dev = hid.Device(path=PATH)\n",
    "msg = format_msg(change_rgb_color(40, 255))\n",
    "send_msg(dev, msg)\n",
    "dev.close()"
   ]
  },
  {
   "cell_type": "code",
   "execution_count": null,
   "metadata": {},
   "outputs": [],
   "source": [
    "# blue\n",
    "dev = hid.Device(path=PATH)\n",
    "msg = format_msg(change_rgb_color(170, 255))\n",
    "send_msg(dev, msg)\n",
    "dev.close()"
   ]
  },
  {
   "cell_type": "code",
   "execution_count": null,
   "metadata": {},
   "outputs": [],
   "source": [
    "# green\n",
    "dev = hid.Device(path=PATH)\n",
    "msg = format_msg(change_rgb_color(80, 255))\n",
    "send_msg(dev, msg)\n",
    "dev.close()"
   ]
  }
 ],
 "metadata": {
  "interpreter": {
   "hash": "721358f51b3f9a39eb951bd4fc744e1d3097e786abae249ded1972bde09c6d65"
  },
  "kernelspec": {
   "display_name": "Python 3.7.13 ('base')",
   "language": "python",
   "name": "python3"
  },
  "language_info": {
   "codemirror_mode": {
    "name": "ipython",
    "version": 3
   },
   "file_extension": ".py",
   "mimetype": "text/x-python",
   "name": "python",
   "nbconvert_exporter": "python",
   "pygments_lexer": "ipython3",
   "version": "3.7.13"
  },
  "orig_nbformat": 4
 },
 "nbformat": 4,
 "nbformat_minor": 2
}
